{
 "cells": [
  {
   "cell_type": "markdown",
   "metadata": {},
   "source": [
    "Sans fonction\n",
    "types_colonnes = data.dtypes\n",
    "dictionnaire_types = {col: str(dtype) for col, dtype in zip(data.columns, types_colonnes)}# pour avoir le nom de la colonne qui est de quelle type\n",
    "\n",
    "dict_val_col = {}\n",
    "for column, dtype in dictionnaire_types.items():\n",
    "    if dtype == 'String':\n",
    "        unique_values = data_gl.select(pl.col(column).unique()).to_series().to_list()#to_serie pour avoir un objet unidimentional et to_list pour pouvoir crée le dictionnaire notame,t pour pouvoir accéder au valeur de la cléf ce qui n'est pas possible avec un obj de tyoe serie\n",
    "        dict_val_col[column] = unique_values\n",
    "print(dict_val_col)"
   ]
  },
  {
   "cell_type": "markdown",
   "metadata": {},
   "source": [
    "# Package"
   ]
  },
  {
   "cell_type": "code",
   "execution_count": 1,
   "metadata": {},
   "outputs": [],
   "source": [
    "import polars as pl"
   ]
  },
  {
   "cell_type": "code",
   "execution_count": 2,
   "metadata": {},
   "outputs": [],
   "source": [
    "import Final.lib1 as lib"
   ]
  },
  {
   "cell_type": "markdown",
   "metadata": {},
   "source": [
    "# Fonction (réutilisable pour d'autre bases de donénes)"
   ]
  },
  {
   "cell_type": "code",
   "execution_count": 112,
   "metadata": {},
   "outputs": [],
   "source": [
    "data_gl = pl.read_excel(\"IRENA_Stats_capacite_prod.xlsx\",\n",
    "                   sheet_name=\"Global\")"
   ]
  },
  {
   "cell_type": "markdown",
   "metadata": {},
   "source": [
    "### Fonction pour connaitre le nom de chaque colonne et leur type"
   ]
  },
  {
   "cell_type": "code",
   "execution_count": 47,
   "metadata": {},
   "outputs": [],
   "source": [
    "def type_col(data):\n",
    "    types_colonnes = data.dtypes\n",
    "    dictionnaire_types = {col: str(dtype) for col, dtype in zip(data.columns, types_colonnes)}# pour avoir le nom de la colonne qui est de quelle type\n",
    "    return dictionnaire_types\n"
   ]
  },
  {
   "cell_type": "markdown",
   "metadata": {},
   "source": [
    "### Fonction pour avoir les catégorie possible pour les variable de type string"
   ]
  },
  {
   "cell_type": "code",
   "execution_count": 103,
   "metadata": {},
   "outputs": [],
   "source": [
    "def categorie_col(data):\n",
    "    dict_type_col=type_col(data)\n",
    "    dict_val_col = {}\n",
    "    for column, dtype in dict_type_col.items():\n",
    "        if dtype == 'String':\n",
    "            unique_values = data_gl.select(pl.col(column).unique()).to_series().to_list()#to_serie pour avoir un objet unidimentional et to_list pour pouvoir crée le dictionnaire notame,t pour pouvoir accéder au valeur de la cléf ce qui n'est pas possible avec un obj de tyoe serie\n",
    "            dict_val_col[column] = unique_values\n",
    "    return dict_val_col\n"
   ]
  },
  {
   "cell_type": "code",
   "execution_count": 84,
   "metadata": {},
   "outputs": [],
   "source": [
    "test=categorie_col(data_gl)"
   ]
  },
  {
   "cell_type": "code",
   "execution_count": 78,
   "metadata": {},
   "outputs": [],
   "source": [
    "nombre_elements = {clé: len(valeur) for clé, valeur in test.items()}"
   ]
  },
  {
   "cell_type": "code",
   "execution_count": 86,
   "metadata": {},
   "outputs": [],
   "source": [
    "cles_moins_de_20 = [clé for clé, nombre in nombre_elements.items() if nombre < 20]"
   ]
  },
  {
   "cell_type": "markdown",
   "metadata": {},
   "source": [
    "### Converstion des variable de type catégorielle"
   ]
  },
  {
   "cell_type": "code",
   "execution_count": 91,
   "metadata": {},
   "outputs": [],
   "source": [
    "conversion_dict = {col: pl.Categorical for col in cles_moins_de_20}\n",
    "with pl.StringCache():\n",
    "    data_gl=data_gl.cast(conversion_dict)"
   ]
  },
  {
   "cell_type": "markdown",
   "metadata": {},
   "source": [
    "### Séléction des énergies renouvlable seulement"
   ]
  },
  {
   "cell_type": "markdown",
   "metadata": {},
   "source": [
    "A voir plus tard si les données sur les énergies non renouvlables pourrai npus être utile"
   ]
  },
  {
   "cell_type": "code",
   "execution_count": 138,
   "metadata": {},
   "outputs": [],
   "source": [
    "data_total_renewable = data_gl.filter(pl.col(\"RE or Non-RE\") == \"Total Renewable\")"
   ]
  },
  {
   "cell_type": "markdown",
   "metadata": {},
   "source": [
    "### Fonction qui permet d'avoir un tabelau des valeurs manquantes en pourcentage"
   ]
  },
  {
   "cell_type": "markdown",
   "metadata": {},
   "source": [
    "avec des extentions on peut le voir assez rapidement sur un explorateur de base de données + arrondir les valeur"
   ]
  },
  {
   "cell_type": "code",
   "execution_count": 25,
   "metadata": {},
   "outputs": [],
   "source": [
    "def table_valeur_manquante(data):\n",
    "    obs_manquantes = data.select([\n",
    "    pl.col(obs).is_null().sum()\n",
    "    for obs in data.columns])\n",
    "    pct_obs_manquantes = (obs_manquantes / data.height * 100).transpose(include_header=True, header_name=\"Column\")\n",
    "    return pct_obs_manquantes\n"
   ]
  },
  {
   "cell_type": "code",
   "execution_count": 157,
   "metadata": {},
   "outputs": [
    {
     "data": {
      "text/html": [
       "<div><style>\n",
       ".dataframe > thead > tr,\n",
       ".dataframe > tbody > tr {\n",
       "  text-align: right;\n",
       "  white-space: pre-wrap;\n",
       "}\n",
       "</style>\n",
       "<small>shape: (8, 2)</small><table border=\"1\" class=\"dataframe\"><thead><tr><th>Column</th><th>column_0</th></tr><tr><td>str</td><td>f64</td></tr></thead><tbody><tr><td>&quot;RE or Non-RE&quot;</td><td>0.0</td></tr><tr><td>&quot;Group Technology&quot;</td><td>0.0</td></tr><tr><td>&quot;Year&quot;</td><td>0.0</td></tr><tr><td>&quot;Sum of Electricity Installed C…</td><td>24.210526</td></tr><tr><td>&quot;Sum of Electricity Generation …</td><td>27.368421</td></tr><tr><td>&quot;Sum of Heat Generation (TJ)&quot;</td><td>51.578947</td></tr><tr><td>&quot;Sum of Public Flows (2021 USD …</td><td>21.052632</td></tr><tr><td>&quot;Sum of SDG 7a1 Intl. Public Fl…</td><td>21.578947</td></tr></tbody></table></div>"
      ],
      "text/plain": [
       "shape: (8, 2)\n",
       "┌─────────────────────────────────┬───────────┐\n",
       "│ Column                          ┆ column_0  │\n",
       "│ ---                             ┆ ---       │\n",
       "│ str                             ┆ f64       │\n",
       "╞═════════════════════════════════╪═══════════╡\n",
       "│ RE or Non-RE                    ┆ 0.0       │\n",
       "│ Group Technology                ┆ 0.0       │\n",
       "│ Year                            ┆ 0.0       │\n",
       "│ Sum of Electricity Installed C… ┆ 24.210526 │\n",
       "│ Sum of Electricity Generation … ┆ 27.368421 │\n",
       "│ Sum of Heat Generation (TJ)     ┆ 51.578947 │\n",
       "│ Sum of Public Flows (2021 USD … ┆ 21.052632 │\n",
       "│ Sum of SDG 7a1 Intl. Public Fl… ┆ 21.578947 │\n",
       "└─────────────────────────────────┴───────────┘"
      ]
     },
     "execution_count": 157,
     "metadata": {},
     "output_type": "execute_result"
    }
   ],
   "source": [
    "table_valeur_manquante(data_total_renewable)"
   ]
  },
  {
   "cell_type": "markdown",
   "metadata": {},
   "source": [
    "### Séléction par group de technologie"
   ]
  },
  {
   "cell_type": "code",
   "execution_count": 100,
   "metadata": {},
   "outputs": [],
   "source": [
    "def get_unique_values(data, column_name):\n",
    "    return data.select(pl.col(column_name).unique()).to_series().to_list()"
   ]
  },
  {
   "cell_type": "code",
   "execution_count": 159,
   "metadata": {},
   "outputs": [],
   "source": [
    "liste_technoloogie=get_unique_values(data_total_renewable,\"Group Technology\")"
   ]
  },
  {
   "cell_type": "code",
   "execution_count": 140,
   "metadata": {},
   "outputs": [
    {
     "data": {
      "text/plain": [
       "['Bioenergy',\n",
       " 'Other renewable energy',\n",
       " 'Geothermal energy',\n",
       " 'Wind energy',\n",
       " 'Hydropower (excl. Pumped Storage)',\n",
       " 'Solar energy',\n",
       " 'Marine energy',\n",
       " 'Multiple renewables*']"
      ]
     },
     "execution_count": 140,
     "metadata": {},
     "output_type": "execute_result"
    }
   ],
   "source": [
    "liste_technoloogie"
   ]
  },
  {
   "cell_type": "code",
   "execution_count": 143,
   "metadata": {},
   "outputs": [],
   "source": [
    "data_bio=data_total_renewable.filter(pl.col(\"Group Technology\") == liste_technoloogie[0])"
   ]
  },
  {
   "cell_type": "code",
   "execution_count": 231,
   "metadata": {},
   "outputs": [
    {
     "name": "stdout",
     "output_type": "stream",
     "text": [
      "Multiple renewables*\n",
      "Wind energy\n",
      "Geothermal energy\n",
      "Hydropower (excl. Pumped Storage)\n",
      "Solar energy\n",
      "Marine energy\n",
      "Other renewable energy\n"
     ]
    }
   ],
   "source": [
    "pct_obs_manquantes=pl.DataFrame()\n",
    "for tech in liste_technoloogie:\n",
    "    if tech == liste_technoloogie[0]:\n",
    "        # Filtrer les données par technologie\n",
    "        filtered_data = data_total_renewable.filter(pl.col(\"Group Technology\") == tech)\n",
    "        # Obtenir le tableau des valeurs manquantes pour cette technologie\n",
    "        pct_obs_manquantes=table_valeur_manquante(filtered_data).rename({\"column_0\":str(tech)})\n",
    "    else:\n",
    "        filtered_data = data_total_renewable.filter(pl.col(\"Group Technology\") == tech)\n",
    "        t_val_m=table_valeur_manquante(filtered_data).rename({\"column_0\":str(tech)})\n",
    "        t_val_m=t_val_m.select(tech)\n",
    "        pl.concat([pct_obs_manquantes,t_val_m],how=\"horizontal\")\n",
    "        print(tech)"
   ]
  },
  {
   "cell_type": "code",
   "execution_count": 237,
   "metadata": {},
   "outputs": [
    {
     "name": "stdout",
     "output_type": "stream",
     "text": [
      "shape: (8, 9)\n",
      "┌───────────┬───────────┬───────────┬───────────┬───┬───────────┬───────────┬───────────┬──────────┐\n",
      "│ Column    ┆ Bioenergy ┆ Multiple  ┆ Wind      ┆ … ┆ Hydropowe ┆ Solar     ┆ Marine    ┆ Other    │\n",
      "│ ---       ┆ ---       ┆ renewable ┆ energy    ┆   ┆ r (excl.  ┆ energy    ┆ energy    ┆ renewabl │\n",
      "│ str       ┆ f64       ┆ s*        ┆ ---       ┆   ┆ Pumped    ┆ ---       ┆ ---       ┆ e energy │\n",
      "│           ┆           ┆ ---       ┆ f64       ┆   ┆ Stora…    ┆ f64       ┆ f64       ┆ ---      │\n",
      "│           ┆           ┆ f64       ┆           ┆   ┆ ---       ┆           ┆           ┆ f64      │\n",
      "│           ┆           ┆           ┆           ┆   ┆ f64       ┆           ┆           ┆          │\n",
      "╞═══════════╪═══════════╪═══════════╪═══════════╪═══╪═══════════╪═══════════╪═══════════╪══════════╡\n",
      "│ RE or     ┆ 0.0       ┆ 0.0       ┆ 0.0       ┆ … ┆ 0.0       ┆ 0.0       ┆ 0.0       ┆ 0.0      │\n",
      "│ Non-RE    ┆           ┆           ┆           ┆   ┆           ┆           ┆           ┆          │\n",
      "│ Group Tec ┆ 0.0       ┆ 0.0       ┆ 0.0       ┆ … ┆ 0.0       ┆ 0.0       ┆ 0.0       ┆ 0.0      │\n",
      "│ hnology   ┆           ┆           ┆           ┆   ┆           ┆           ┆           ┆          │\n",
      "│ Year      ┆ 0.0       ┆ 0.0       ┆ 0.0       ┆ … ┆ 0.0       ┆ 0.0       ┆ 0.0       ┆ 0.0      │\n",
      "│ Sum of    ┆ 0.0       ┆ 100.0     ┆ 0.0       ┆ … ┆ 0.0       ┆ 0.0       ┆ 0.0       ┆ 100.0    │\n",
      "│ Electrici ┆           ┆           ┆           ┆   ┆           ┆           ┆           ┆          │\n",
      "│ ty        ┆           ┆           ┆           ┆   ┆           ┆           ┆           ┆          │\n",
      "│ Installed ┆           ┆           ┆           ┆   ┆           ┆           ┆           ┆          │\n",
      "│ C…        ┆           ┆           ┆           ┆   ┆           ┆           ┆           ┆          │\n",
      "│ Sum of    ┆ 0.0       ┆ 100.0     ┆ 0.0       ┆ … ┆ 0.0       ┆ 0.0       ┆ 0.0       ┆ 100.0    │\n",
      "│ Electrici ┆           ┆           ┆           ┆   ┆           ┆           ┆           ┆          │\n",
      "│ ty Genera ┆           ┆           ┆           ┆   ┆           ┆           ┆           ┆          │\n",
      "│ tion …    ┆           ┆           ┆           ┆   ┆           ┆           ┆           ┆          │\n",
      "│ Sum of    ┆ 0.0       ┆ 100.0     ┆ 100.0     ┆ … ┆ 100.0     ┆ 0.0       ┆ 100.0     ┆ 0.0      │\n",
      "│ Heat Gene ┆           ┆           ┆           ┆   ┆           ┆           ┆           ┆          │\n",
      "│ ration    ┆           ┆           ┆           ┆   ┆           ┆           ┆           ┆          │\n",
      "│ (TJ)      ┆           ┆           ┆           ┆   ┆           ┆           ┆           ┆          │\n",
      "│ Sum of    ┆ 0.0       ┆ 0.0       ┆ 0.0       ┆ … ┆ 0.0       ┆ 0.0       ┆ 43.478261 ┆ 100.0    │\n",
      "│ Public    ┆           ┆           ┆           ┆   ┆           ┆           ┆           ┆          │\n",
      "│ Flows     ┆           ┆           ┆           ┆   ┆           ┆           ┆           ┆          │\n",
      "│ (2021 USD ┆           ┆           ┆           ┆   ┆           ┆           ┆           ┆          │\n",
      "│ …         ┆           ┆           ┆           ┆   ┆           ┆           ┆           ┆          │\n",
      "│ Sum of    ┆ 0.0       ┆ 0.0       ┆ 0.0       ┆ … ┆ 0.0       ┆ 0.0       ┆ 47.826087 ┆ 100.0    │\n",
      "│ SDG 7a1   ┆           ┆           ┆           ┆   ┆           ┆           ┆           ┆          │\n",
      "│ Intl.     ┆           ┆           ┆           ┆   ┆           ┆           ┆           ┆          │\n",
      "│ Public    ┆           ┆           ┆           ┆   ┆           ┆           ┆           ┆          │\n",
      "│ Fl…       ┆           ┆           ┆           ┆   ┆           ┆           ┆           ┆          │\n",
      "└───────────┴───────────┴───────────┴───────────┴───┴───────────┴───────────┴───────────┴──────────┘\n"
     ]
    }
   ],
   "source": [
    "\n",
    "# Initialiser un DataFrame vide pour commencer la concaténation\n",
    "pct_obs_manquantes = pl.DataFrame()\n",
    "\n",
    "for tech in liste_technoloogie:\n",
    "    # Filtrer les données par technologie\n",
    "    filtered_data = df_f.filter(pl.col(\"Group Technology\") == tech)\n",
    "    \n",
    "    # Obtenir le tableau des valeurs manquantes pour cette technologie\n",
    "    pct_obs = table_valeur_manquante(filtered_data)\n",
    "    \n",
    "    # Renommer la colonne pour refléter la technologie\n",
    "    pct_obs = pct_obs.rename({\"column_0\": str(tech)})\n",
    "    \n",
    "    # Concaténer le DataFrame courant avec le DataFrame existant\n",
    "    if pct_obs_manquantes.shape[0] == 0:\n",
    "        pct_obs_manquantes = pct_obs\n",
    "    else:\n",
    "        pct_obs=pct_obs.select(tech)\n",
    "        pct_obs_manquantes = pl.concat([pct_obs_manquantes, pct_obs], how=\"horizontal\")\n",
    "\n",
    "# Afficher le DataFrame final\n",
    "print(pct_obs_manquantes)\n"
   ]
  },
  {
   "cell_type": "code",
   "execution_count": 238,
   "metadata": {},
   "outputs": [
    {
     "data": {
      "text/html": [
       "<div><style>\n",
       ".dataframe > thead > tr,\n",
       ".dataframe > tbody > tr {\n",
       "  text-align: right;\n",
       "  white-space: pre-wrap;\n",
       "}\n",
       "</style>\n",
       "<small>shape: (8, 9)</small><table border=\"1\" class=\"dataframe\"><thead><tr><th>Column</th><th>Bioenergy</th><th>Multiple renewables*</th><th>Wind energy</th><th>Geothermal energy</th><th>Hydropower (excl. Pumped Storage)</th><th>Solar energy</th><th>Marine energy</th><th>Other renewable energy</th></tr><tr><td>str</td><td>f64</td><td>f64</td><td>f64</td><td>f64</td><td>f64</td><td>f64</td><td>f64</td><td>f64</td></tr></thead><tbody><tr><td>&quot;RE or Non-RE&quot;</td><td>0.0</td><td>0.0</td><td>0.0</td><td>0.0</td><td>0.0</td><td>0.0</td><td>0.0</td><td>0.0</td></tr><tr><td>&quot;Group Technology&quot;</td><td>0.0</td><td>0.0</td><td>0.0</td><td>0.0</td><td>0.0</td><td>0.0</td><td>0.0</td><td>0.0</td></tr><tr><td>&quot;Year&quot;</td><td>0.0</td><td>0.0</td><td>0.0</td><td>0.0</td><td>0.0</td><td>0.0</td><td>0.0</td><td>0.0</td></tr><tr><td>&quot;Sum of Electricity Installed C…</td><td>0.0</td><td>100.0</td><td>0.0</td><td>0.0</td><td>0.0</td><td>0.0</td><td>0.0</td><td>100.0</td></tr><tr><td>&quot;Sum of Electricity Generation …</td><td>0.0</td><td>100.0</td><td>0.0</td><td>0.0</td><td>0.0</td><td>0.0</td><td>0.0</td><td>100.0</td></tr><tr><td>&quot;Sum of Heat Generation (TJ)&quot;</td><td>0.0</td><td>100.0</td><td>100.0</td><td>0.0</td><td>100.0</td><td>0.0</td><td>100.0</td><td>0.0</td></tr><tr><td>&quot;Sum of Public Flows (2021 USD …</td><td>0.0</td><td>0.0</td><td>0.0</td><td>4.347826</td><td>0.0</td><td>0.0</td><td>43.478261</td><td>100.0</td></tr><tr><td>&quot;Sum of SDG 7a1 Intl. Public Fl…</td><td>0.0</td><td>0.0</td><td>0.0</td><td>4.347826</td><td>0.0</td><td>0.0</td><td>47.826087</td><td>100.0</td></tr></tbody></table></div>"
      ],
      "text/plain": [
       "shape: (8, 9)\n",
       "┌───────────┬───────────┬───────────┬───────────┬───┬───────────┬───────────┬───────────┬──────────┐\n",
       "│ Column    ┆ Bioenergy ┆ Multiple  ┆ Wind      ┆ … ┆ Hydropowe ┆ Solar     ┆ Marine    ┆ Other    │\n",
       "│ ---       ┆ ---       ┆ renewable ┆ energy    ┆   ┆ r (excl.  ┆ energy    ┆ energy    ┆ renewabl │\n",
       "│ str       ┆ f64       ┆ s*        ┆ ---       ┆   ┆ Pumped    ┆ ---       ┆ ---       ┆ e energy │\n",
       "│           ┆           ┆ ---       ┆ f64       ┆   ┆ Stora…    ┆ f64       ┆ f64       ┆ ---      │\n",
       "│           ┆           ┆ f64       ┆           ┆   ┆ ---       ┆           ┆           ┆ f64      │\n",
       "│           ┆           ┆           ┆           ┆   ┆ f64       ┆           ┆           ┆          │\n",
       "╞═══════════╪═══════════╪═══════════╪═══════════╪═══╪═══════════╪═══════════╪═══════════╪══════════╡\n",
       "│ RE or     ┆ 0.0       ┆ 0.0       ┆ 0.0       ┆ … ┆ 0.0       ┆ 0.0       ┆ 0.0       ┆ 0.0      │\n",
       "│ Non-RE    ┆           ┆           ┆           ┆   ┆           ┆           ┆           ┆          │\n",
       "│ Group Tec ┆ 0.0       ┆ 0.0       ┆ 0.0       ┆ … ┆ 0.0       ┆ 0.0       ┆ 0.0       ┆ 0.0      │\n",
       "│ hnology   ┆           ┆           ┆           ┆   ┆           ┆           ┆           ┆          │\n",
       "│ Year      ┆ 0.0       ┆ 0.0       ┆ 0.0       ┆ … ┆ 0.0       ┆ 0.0       ┆ 0.0       ┆ 0.0      │\n",
       "│ Sum of    ┆ 0.0       ┆ 100.0     ┆ 0.0       ┆ … ┆ 0.0       ┆ 0.0       ┆ 0.0       ┆ 100.0    │\n",
       "│ Electrici ┆           ┆           ┆           ┆   ┆           ┆           ┆           ┆          │\n",
       "│ ty        ┆           ┆           ┆           ┆   ┆           ┆           ┆           ┆          │\n",
       "│ Installed ┆           ┆           ┆           ┆   ┆           ┆           ┆           ┆          │\n",
       "│ C…        ┆           ┆           ┆           ┆   ┆           ┆           ┆           ┆          │\n",
       "│ Sum of    ┆ 0.0       ┆ 100.0     ┆ 0.0       ┆ … ┆ 0.0       ┆ 0.0       ┆ 0.0       ┆ 100.0    │\n",
       "│ Electrici ┆           ┆           ┆           ┆   ┆           ┆           ┆           ┆          │\n",
       "│ ty Genera ┆           ┆           ┆           ┆   ┆           ┆           ┆           ┆          │\n",
       "│ tion …    ┆           ┆           ┆           ┆   ┆           ┆           ┆           ┆          │\n",
       "│ Sum of    ┆ 0.0       ┆ 100.0     ┆ 100.0     ┆ … ┆ 100.0     ┆ 0.0       ┆ 100.0     ┆ 0.0      │\n",
       "│ Heat Gene ┆           ┆           ┆           ┆   ┆           ┆           ┆           ┆          │\n",
       "│ ration    ┆           ┆           ┆           ┆   ┆           ┆           ┆           ┆          │\n",
       "│ (TJ)      ┆           ┆           ┆           ┆   ┆           ┆           ┆           ┆          │\n",
       "│ Sum of    ┆ 0.0       ┆ 0.0       ┆ 0.0       ┆ … ┆ 0.0       ┆ 0.0       ┆ 43.478261 ┆ 100.0    │\n",
       "│ Public    ┆           ┆           ┆           ┆   ┆           ┆           ┆           ┆          │\n",
       "│ Flows     ┆           ┆           ┆           ┆   ┆           ┆           ┆           ┆          │\n",
       "│ (2021 USD ┆           ┆           ┆           ┆   ┆           ┆           ┆           ┆          │\n",
       "│ …         ┆           ┆           ┆           ┆   ┆           ┆           ┆           ┆          │\n",
       "│ Sum of    ┆ 0.0       ┆ 0.0       ┆ 0.0       ┆ … ┆ 0.0       ┆ 0.0       ┆ 47.826087 ┆ 100.0    │\n",
       "│ SDG 7a1   ┆           ┆           ┆           ┆   ┆           ┆           ┆           ┆          │\n",
       "│ Intl.     ┆           ┆           ┆           ┆   ┆           ┆           ┆           ┆          │\n",
       "│ Public    ┆           ┆           ┆           ┆   ┆           ┆           ┆           ┆          │\n",
       "│ Fl…       ┆           ┆           ┆           ┆   ┆           ┆           ┆           ┆          │\n",
       "└───────────┴───────────┴───────────┴───────────┴───┴───────────┴───────────┴───────────┴──────────┘"
      ]
     },
     "execution_count": 238,
     "metadata": {},
     "output_type": "execute_result"
    }
   ],
   "source": [
    "pct_obs_manquantes"
   ]
  },
  {
   "cell_type": "markdown",
   "metadata": {},
   "source": [
    "- A voir ce que signifie \"mutiple renewables*\" dans la documentation car les seul info dispo sont les flux\n",
    "- Voir si les flux sont utilisable ou non car se base sur 2021 USD et on a déja des données sur des investisement il faudrai pouvoir voir ce qu'ils signifie exactement\n",
    "- Pas de données sur la production d'électricité pour les énergiesr renouvlables autres"
   ]
  },
  {
   "cell_type": "code",
   "execution_count": 236,
   "metadata": {},
   "outputs": [],
   "source": [
    "df_f = data_total_renewable.filter(pl.col(\"Year\") != 2023)"
   ]
  },
  {
   "cell_type": "code",
   "execution_count": 240,
   "metadata": {},
   "outputs": [],
   "source": [
    "df_fff=df_f.filter(pl.col('Group Technology')==\"Bioenergy\")"
   ]
  },
  {
   "cell_type": "code",
   "execution_count": 145,
   "metadata": {},
   "outputs": [
    {
     "data": {
      "text/html": [
       "<div><style>\n",
       ".dataframe > thead > tr,\n",
       ".dataframe > tbody > tr {\n",
       "  text-align: right;\n",
       "  white-space: pre-wrap;\n",
       "}\n",
       "</style>\n",
       "<small>shape: (8, 2)</small><table border=\"1\" class=\"dataframe\"><thead><tr><th>Column</th><th>column_0</th></tr><tr><td>str</td><td>f64</td></tr></thead><tbody><tr><td>&quot;RE or Non-RE&quot;</td><td>0.0</td></tr><tr><td>&quot;Group Technology&quot;</td><td>0.0</td></tr><tr><td>&quot;Year&quot;</td><td>0.0</td></tr><tr><td>&quot;Sum of Electricity Installed C…</td><td>0.0</td></tr><tr><td>&quot;Sum of Electricity Generation …</td><td>4.166667</td></tr><tr><td>&quot;Sum of Heat Generation (TJ)&quot;</td><td>100.0</td></tr><tr><td>&quot;Sum of Public Flows (2021 USD …</td><td>45.833333</td></tr><tr><td>&quot;Sum of SDG 7a1 Intl. Public Fl…</td><td>50.0</td></tr></tbody></table></div>"
      ],
      "text/plain": [
       "shape: (8, 2)\n",
       "┌─────────────────────────────────┬───────────┐\n",
       "│ Column                          ┆ column_0  │\n",
       "│ ---                             ┆ ---       │\n",
       "│ str                             ┆ f64       │\n",
       "╞═════════════════════════════════╪═══════════╡\n",
       "│ RE or Non-RE                    ┆ 0.0       │\n",
       "│ Group Technology                ┆ 0.0       │\n",
       "│ Year                            ┆ 0.0       │\n",
       "│ Sum of Electricity Installed C… ┆ 0.0       │\n",
       "│ Sum of Electricity Generation … ┆ 4.166667  │\n",
       "│ Sum of Heat Generation (TJ)     ┆ 100.0     │\n",
       "│ Sum of Public Flows (2021 USD … ┆ 45.833333 │\n",
       "│ Sum of SDG 7a1 Intl. Public Fl… ┆ 50.0      │\n",
       "└─────────────────────────────────┴───────────┘"
      ]
     },
     "execution_count": 145,
     "metadata": {},
     "output_type": "execute_result"
    }
   ],
   "source": [
    "table_valeur_manquante(data_total_renewable.filter(pl.col(\"Group Technology\") == liste_technoloogie[0])) #pour regarder modalité par modalité"
   ]
  },
  {
   "cell_type": "markdown",
   "metadata": {},
   "source": [
    "### Fonction pour convertir en categorie toutes les variable de type string (pour l'instant inutile)"
   ]
  },
  {
   "cell_type": "code",
   "execution_count": 140,
   "metadata": {},
   "outputs": [],
   "source": [
    "conversion_dict = {col: pl.Categorical for col in colonne_string}\n",
    "@pl.StringCache()\n",
    "def fct(data):\n",
    "    #data = data.cast({'RE or Non-RE': pl.Categorical})\n",
    "    data=data.cast(conversion_dict)\n",
    "    return data"
   ]
  }
 ],
 "metadata": {
  "kernelspec": {
   "display_name": "Python 3",
   "language": "python",
   "name": "python3"
  },
  "language_info": {
   "codemirror_mode": {
    "name": "ipython",
    "version": 3
   },
   "file_extension": ".py",
   "mimetype": "text/x-python",
   "name": "python",
   "nbconvert_exporter": "python",
   "pygments_lexer": "ipython3",
   "version": "3.10.2"
  }
 },
 "nbformat": 4,
 "nbformat_minor": 2
}
