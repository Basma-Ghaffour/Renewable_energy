{
 "cells": [
  {
   "cell_type": "markdown",
   "metadata": {},
   "source": [
    "# Librairies"
   ]
  },
  {
   "cell_type": "code",
   "execution_count": 2,
   "metadata": {},
   "outputs": [],
   "source": [
    "import polars as pl\n",
    "from typing import Dict\n",
    "import sys\n",
    "import os"
   ]
  },
  {
   "cell_type": "markdown",
   "metadata": {},
   "source": [
    "# Fonctions"
   ]
  },
  {
   "cell_type": "code",
   "execution_count": 19,
   "metadata": {},
   "outputs": [],
   "source": [
    "def type_col(data):\n",
    "    types_colonnes = data.dtypes\n",
    "    dictionnaire_types = {col: str(dtype) for col, dtype in zip(data.columns, types_colonnes)}# pour avoir le nom de la colonne qui est de quelle type\n",
    "    return dictionnaire_types"
   ]
  },
  {
   "cell_type": "code",
   "execution_count": 20,
   "metadata": {},
   "outputs": [],
   "source": [
    "def categorie_col(data):\n",
    "    dict_type_col=type_col(data)\n",
    "    dict_val_col = {}\n",
    "    for column, dtype in dict_type_col.items():\n",
    "        if dtype == 'String':\n",
    "            unique_values = data.select(pl.col(column).unique()).to_series().to_list()#to_serie pour avoir un objet unidimentional et to_list pour pouvoir crée le dictionnaire notame,t pour pouvoir accéder au valeur de la cléf ce qui n'est pas possible avec un obj de tyoe serie\n",
    "            dict_val_col[column] = unique_values\n",
    "    return dict_val_col"
   ]
  },
  {
   "cell_type": "code",
   "execution_count": 21,
   "metadata": {},
   "outputs": [],
   "source": [
    "def table_valeur_manquante(data):\n",
    "    obs_manquantes = data.select([\n",
    "    pl.col(obs).is_null().sum()\n",
    "    for obs in data.columns])\n",
    "    pct_obs_manquantes = (obs_manquantes / data.height * 100).transpose(include_header=True, header_name=\"Column\")\n",
    "    return pct_obs_manquantes"
   ]
  },
  {
   "cell_type": "code",
   "execution_count": 5,
   "metadata": {},
   "outputs": [],
   "source": [
    "module_path=\"C:/Users/basma/Desktop/Stage_gaea/projet_Trends/Base_de_donnees/Final/lib1.py\""
   ]
  },
  {
   "cell_type": "code",
   "execution_count": 4,
   "metadata": {},
   "outputs": [
    {
     "ename": "ModuleNotFoundError",
     "evalue": "No module named 'lib1'",
     "output_type": "error",
     "traceback": [
      "\u001b[1;31m---------------------------------------------------------------------------\u001b[0m",
      "\u001b[1;31mModuleNotFoundError\u001b[0m                       Traceback (most recent call last)",
      "Cell \u001b[1;32mIn [4], line 3\u001b[0m\n\u001b[0;32m      1\u001b[0m module_directory \u001b[38;5;241m=\u001b[39m os\u001b[38;5;241m.\u001b[39mpath\u001b[38;5;241m.\u001b[39mdirname(\u001b[38;5;124m\"\u001b[39m\u001b[38;5;124mC:/Users/basma/Desktop/Stage_gaea/projet_Trends/Base_de_donnees/Final/lib1.py\u001b[39m\u001b[38;5;124m\"\u001b[39m)\n\u001b[0;32m      2\u001b[0m sys\u001b[38;5;241m.\u001b[39mpath\u001b[38;5;241m.\u001b[39minsert(\u001b[38;5;241m0\u001b[39m, module_directory)\n\u001b[1;32m----> 3\u001b[0m \u001b[38;5;28;01mimport\u001b[39;00m \u001b[38;5;21;01mlib1\u001b[39;00m \u001b[38;5;28;01mas\u001b[39;00m \u001b[38;5;21;01mlb\u001b[39;00m\n",
      "\u001b[1;31mModuleNotFoundError\u001b[0m: No module named 'lib1'"
     ]
    }
   ],
   "source": [
    "module_directory = os.path.dirname(\"C:/Users/basma/Desktop/Stage_gaea/projet_Trends/Base_de_donnees/Final/lib1.py\")\n",
    "sys.path.insert(0, module_directory)\n",
    "import lib1 as lb"
   ]
  },
  {
   "cell_type": "code",
   "execution_count": 22,
   "metadata": {},
   "outputs": [],
   "source": [
    "data= pl.read_excel(\"IRENA_RE_Jobs_Annual_Review_2023.xlsx\",\n",
    "                   sheet_name=\"2023 Jobs Tableau\")"
   ]
  },
  {
   "cell_type": "markdown",
   "metadata": {},
   "source": [
    "Séléction des variables qui nous intéresse"
   ]
  },
  {
   "cell_type": "code",
   "execution_count": 24,
   "metadata": {},
   "outputs": [
    {
     "data": {
      "text/plain": [
       "[String, String, Float64, String, String, Int64]"
      ]
     },
     "execution_count": 24,
     "metadata": {},
     "output_type": "execute_result"
    }
   ],
   "source": [
    "data.dtypes"
   ]
  },
  {
   "cell_type": "code",
   "execution_count": null,
   "metadata": {},
   "outputs": [],
   "source": [
    "data['new_col']=data.apply"
   ]
  },
  {
   "cell_type": "code",
   "execution_count": null,
   "metadata": {},
   "outputs": [
    {
     "data": {
      "text/plain": [
       "{'Country/area': 'String',\n",
       " 'Technology': 'String',\n",
       " 'Jobs (thousand)': 'Float64',\n",
       " 'Source': 'String',\n",
       " 'Notes': 'String',\n",
       " 'Year': 'Int64'}"
      ]
     },
     "execution_count": 5,
     "metadata": {},
     "output_type": "execute_result"
    }
   ],
   "source": [
    "lb.type_col(data)"
   ]
  },
  {
   "cell_type": "code",
   "execution_count": null,
   "metadata": {},
   "outputs": [
    {
     "data": {
      "text/plain": [
       "{'Country/area': ['Libya',\n",
       "  'Estonia',\n",
       "  'Jordan',\n",
       "  'Cambodia',\n",
       "  'All World',\n",
       "  'Sri Lanka',\n",
       "  'Mauritius',\n",
       "  'India',\n",
       "  'Morocco',\n",
       "  'Democratic Republic of the Congo',\n",
       "  'Montenegro',\n",
       "  'Finland',\n",
       "  'Argentina',\n",
       "  'Paraguay',\n",
       "  'Malta',\n",
       "  'Tajikistan',\n",
       "  'Russian Federation',\n",
       "  'Ghana',\n",
       "  'Uzbekistan',\n",
       "  'Cyprus',\n",
       "  'Bangladesh',\n",
       "  'Zimbabwe',\n",
       "  'Bulgaria',\n",
       "  'United States of America',\n",
       "  'Nigeria',\n",
       "  'Switzerland',\n",
       "  'Mongolia',\n",
       "  'Kyrgyzstan',\n",
       "  'France',\n",
       "  'Botswana',\n",
       "  'North Macedonia',\n",
       "  'Egypt',\n",
       "  'Burkina Faso',\n",
       "  'South Africa',\n",
       "  'Latvia',\n",
       "  'Belgium',\n",
       "  'Rwanda',\n",
       "  'Ukraine',\n",
       "  'Ecuador',\n",
       "  'Guinea',\n",
       "  'Philippines',\n",
       "  'Iceland',\n",
       "  'Croatia',\n",
       "  'Mexico',\n",
       "  'Kazakhstan',\n",
       "  'Spain',\n",
       "  'Gabon',\n",
       "  'Other East, Central and West Africa',\n",
       "  'Sweden',\n",
       "  'Senegal',\n",
       "  'Colombia',\n",
       "  'Panama',\n",
       "  'Puerto Rico',\n",
       "  'Viet Nam',\n",
       "  'Slovenia',\n",
       "  'United Republic of Tanzania',\n",
       "  'Ethiopia',\n",
       "  'Brazil',\n",
       "  'Hungary',\n",
       "  'Austria',\n",
       "  'Lebanon',\n",
       "  'Mozambique',\n",
       "  'Nicaragua',\n",
       "  'Romania',\n",
       "  'Iran (Islamic Republic of)',\n",
       "  'Dominican Republic',\n",
       "  'Slovakia',\n",
       "  'Albania',\n",
       "  'Japan',\n",
       "  'Algeria',\n",
       "  'Norway',\n",
       "  'Nepal',\n",
       "  'Germany',\n",
       "  'Portugal',\n",
       "  'Australia',\n",
       "  'Other South Asia (excluding Bangladesh and India)',\n",
       "  'Singapore',\n",
       "  'Chinese Taipei',\n",
       "  'Republic of Korea',\n",
       "  'Israel',\n",
       "  'Belarus',\n",
       "  'Qatar',\n",
       "  'Malaysia',\n",
       "  'Bosnia and Herzegovina',\n",
       "  'Moldova',\n",
       "  'Greece',\n",
       "  'Barbados',\n",
       "  'Azerbaijan',\n",
       "  'Costa Rica',\n",
       "  'Peru',\n",
       "  'Pakistan',\n",
       "  'Lesotho',\n",
       "  'Mali',\n",
       "  'Chile',\n",
       "  'Uruguay',\n",
       "  'State of Palestine',\n",
       "  'Italy',\n",
       "  'Türkiye',\n",
       "  'Lithuania',\n",
       "  'Ireland',\n",
       "  'New Zealand',\n",
       "  'United Kingdom',\n",
       "  'Poland',\n",
       "  'Luxembourg',\n",
       "  'China',\n",
       "  'Serbia',\n",
       "  'Kenya',\n",
       "  'Denmark',\n",
       "  'El Salvador',\n",
       "  'Netherlands',\n",
       "  'Oman',\n",
       "  'Canada',\n",
       "  'Namibia',\n",
       "  'Tunisia',\n",
       "  'Indonesia',\n",
       "  'Czechia',\n",
       "  'Thailand',\n",
       "  'Venezuela (Bolivarian Republic of)',\n",
       "  'Myanmar',\n",
       "  'Uganda',\n",
       "  'United Arab Emirates',\n",
       "  'Angola',\n",
       "  'Zambia'],\n",
       " 'Technology': ['Solar photovoltaic',\n",
       "  'Wind Energy',\n",
       "  'Geothermal Energy',\n",
       "  'Hydropower',\n",
       "  'Liquid Biofuels',\n",
       "  'Biogas',\n",
       "  'Geothermal energy',\n",
       "  'All technologies',\n",
       "  'Heat Pumps',\n",
       "  'Solid Biomass',\n",
       "  'Tide, Wave and Ocean Energy',\n",
       "  'Solar Photovoltaic',\n",
       "  'CSP',\n",
       "  'Solar Heating / Cooling',\n",
       "  'Liquid biofuels',\n",
       "  'Municipal and industrial waste',\n",
       "  'Others'],\n",
       " 'Source': [\"EurObserv'ER (2022)\",\n",
       "  'REA (2021)',\n",
       "  'IRENA estimate',\n",
       "  'CHPA (2023)',\n",
       "  'DEDE',\n",
       "  'Natural Resources Canada (2023)',\n",
       "  'Guardian (2015)',\n",
       "  'BMWi (2021)',\n",
       "  'Investmauritius (2016)',\n",
       "  'INTPOW (2009)',\n",
       "  'Solar-Inverter (2015)',\n",
       "  'Urbanchuk (2012)',\n",
       "  'NREA Egypt (2016) ',\n",
       "  'IEA GEA (2013)',\n",
       "  'USDOE (2023)',\n",
       "  'APPA (2022)',\n",
       "  'EHPA (2023)',\n",
       "  'Elmoudjahid (2016); SKTM (2016); Condor (2016)',\n",
       "  'IRENA Estimate',\n",
       "  \"EurObserv'ER (2020)\",\n",
       "  'Mobisol (2016)',\n",
       "  'ABS (2020)',\n",
       "  'SFOE (2016)',\n",
       "  'UNDP (2015)',\n",
       "  'MNRE and CII (2010)',\n",
       "  'China Renewable Energy Society (2023)',\n",
       "  'US DOE (2023)',\n",
       "  'Chevron Indonesia (2012)',\n",
       "  'GOGLA',\n",
       "  'Konechenkov and Shmidt (2016)',\n",
       "  'US DOE (2022)',\n",
       "  'GIZ (2015)',\n",
       "  'Ministry of Energy, Chile; River Consultores (2016); Corporación de Bienes de Capital (2017) (estimates for constructing new plants planned for 2018 plus O&M from previous plants)',\n",
       "  'Mcesocap (2016); PEG-ghana (nd); PV-tech (nd)',\n",
       "  None,\n",
       "  'IRENA focal point',\n",
       "  'GOGLA and Vivid Economics (2018)',\n",
       "  'Zawya (2015)',\n",
       "  'IRENA Focal Point',\n",
       "  'Ministry of Energy, Chile; River Consultores (2016); Corporación de Bienes de Capital (2017)',\n",
       "  'Ministerio de Minas y Energía (2015)'],\n",
       " 'Notes': ['Based on employment factors and capacity data',\n",
       "  'Includes biogas, Direct & Indirect jobs based on I-O model.',\n",
       "  'Government jobs',\n",
       "  'Employment factor based estimate',\n",
       "  'O&M jobs only',\n",
       "  'Offgrid solar jobs',\n",
       "  'Renewable heating and cooling applications',\n",
       "  'Includes workforce of Mobisol, Off-grid Electric and AKON Solar',\n",
       "  None,\n",
       "  'They are included in the solar photovoltaic data point',\n",
       "  'Only in manufacturing ',\n",
       "  'Direct & Indirect jobs based on I-O model',\n",
       "  'The workforce of PEG-Ghana, the construction workforce of BXG Ghana and for Nzema solar project.',\n",
       "  'Only employed by Chevron',\n",
       "  'Direct and indirect jobs.',\n",
       "  'The figure given in the source is for all bioenergy. Here, it is assigned to Solid Biomass',\n",
       "  'Renewables energy workforce of universities, utilitites and organisations such as Masdar and IRENA',\n",
       "  'People trained in renewables',\n",
       "  'Equipment manufacturing for all renewables',\n",
       "  'Direct and indirect jobs. Expert judgement.',\n",
       "  'Small hydro only.',\n",
       "  'Direct Jobs only.',\n",
       "  'Direct + Indirect (includes consultants, lawyers, etc). These jobs have been created since 2010',\n",
       "  '54.6k in traditional hydropower',\n",
       "  '5,410 in power and 550 in heat',\n",
       "  'Based on capacity and manufacturing trends',\n",
       "  'IRENA estimate based on data from Renewable Energy Development Centre (CDER)',\n",
       "  'These are people employed in CDER, SKTM and Condor ',\n",
       "  '30 in Hydro-thermal sector and 17,020 in construction & installation of all renewables.']}"
      ]
     },
     "execution_count": 9,
     "metadata": {},
     "output_type": "execute_result"
    }
   ],
   "source": [
    "lb.categorie_col(data)"
   ]
  },
  {
   "cell_type": "code",
   "execution_count": 4,
   "metadata": {},
   "outputs": [],
   "source": [
    "data=data.select(['Country/area','Technology','Jobs (thousand)'])"
   ]
  },
  {
   "cell_type": "code",
   "execution_count": 5,
   "metadata": {},
   "outputs": [
    {
     "data": {
      "text/plain": [
       "polars.dataframe.frame.DataFrame"
      ]
     },
     "execution_count": 5,
     "metadata": {},
     "output_type": "execute_result"
    }
   ],
   "source": [
    "type(data)"
   ]
  },
  {
   "cell_type": "markdown",
   "metadata": {},
   "source": [
    "def type_col(data:pl.DataFrame)->Dict:\n",
    "    \"\"\"Fonction qui permet de renvoyer un dictionnaire contenant le nom de la variable associé a son type\"\"\"\n",
    "    types_colonnes = data.dtypes\n",
    "    dictionnaire_types = {col: str(dtype) for col, dtype in zip(data.columns, types_colonnes)}# pour avoir le nom de la colonne qui est de quelle type\n",
    "    return dictionnaire_types"
   ]
  },
  {
   "cell_type": "markdown",
   "metadata": {},
   "source": [
    "def categorie_col(data:pl.DataFrame)->Dict:\n",
    "    \"\"\"Fonction qui nous renvoie seulement pour les variables de type string le nom de la variable associer a une liste des modalité possible que peut prendre la variable\"\"\"\n",
    "    dict_type_col=type_col(data)\n",
    "    dict_val_col = {}\n",
    "    for column, dtype in dict_type_col.items():\n",
    "        if dtype == 'String':\n",
    "            unique_values = data.select(pl.col(column).unique()).to_series().to_list()#to_serie pour avoir un objet unidimentional et to_list pour pouvoir crée le dictionnaire notame,t pour pouvoir accéder au valeur de la cléf ce qui n'est pas possible avec un obj de tyoe serie\n",
    "            dict_val_col[column] = unique_values\n",
    "    if not dict_val_col:\n",
    "        raise ValueError(\"Aucune variable de type string trouvée dans le DataFrame.\")\n",
    "    return dict_val_col"
   ]
  },
  {
   "cell_type": "code",
   "execution_count": 6,
   "metadata": {},
   "outputs": [],
   "source": [
    "# A utiliser pour les test\n",
    "df = pl.DataFrame({\n",
    "    'id': [1, 2, 3, 4],  # Colonne de type entier (int)\n",
    "    'age': [25, 30, 35, 40],  # Colonne de type entier (int)\n",
    "    'salary': [75000.50, 85000.75, 90000.00, 72000.20]  # Colonne de type flottant (float)\n",
    "})"
   ]
  },
  {
   "cell_type": "markdown",
   "metadata": {},
   "source": [
    "Pour visualiser les différent pays et les différents technologie des energies renouvlable"
   ]
  },
  {
   "cell_type": "code",
   "execution_count": 11,
   "metadata": {},
   "outputs": [
    {
     "data": {
      "text/plain": [
       "dict_keys(['Country/area', 'Technology'])"
      ]
     },
     "execution_count": 11,
     "metadata": {},
     "output_type": "execute_result"
    }
   ],
   "source": [
    "dict_c=categorie_col(data)\n",
    "dict_c.keys()"
   ]
  },
  {
   "cell_type": "code",
   "execution_count": 12,
   "metadata": {},
   "outputs": [],
   "source": [
    "list_cat=dict_c['Country/area']"
   ]
  },
  {
   "cell_type": "markdown",
   "metadata": {},
   "source": [
    "Ici on s'intéresse uniquement au chiffres dans le monde entier 'All World'"
   ]
  },
  {
   "cell_type": "code",
   "execution_count": 13,
   "metadata": {},
   "outputs": [],
   "source": [
    "data=data.filter(pl.col('Country/area')==\"All World\")"
   ]
  },
  {
   "cell_type": "code",
   "execution_count": 14,
   "metadata": {},
   "outputs": [
    {
     "data": {
      "text/plain": [
       "['Biogas',\n",
       " 'Solar Photovoltaic',\n",
       " 'Municipal and industrial waste',\n",
       " 'Tide, Wave and Ocean Energy',\n",
       " 'Others',\n",
       " 'CSP',\n",
       " 'Heat Pumps',\n",
       " 'Solid Biomass',\n",
       " 'Solar photovoltaic',\n",
       " 'Geothermal Energy',\n",
       " 'All technologies',\n",
       " 'Solar Heating / Cooling',\n",
       " 'Hydropower',\n",
       " 'Wind Energy',\n",
       " 'Liquid Biofuels',\n",
       " 'Liquid biofuels',\n",
       " 'Geothermal energy']"
      ]
     },
     "execution_count": 14,
     "metadata": {},
     "output_type": "execute_result"
    }
   ],
   "source": [
    "dict_c[ 'Technology']"
   ]
  },
  {
   "cell_type": "code",
   "execution_count": 15,
   "metadata": {},
   "outputs": [],
   "source": [
    "def  recode_solar(mod):# apply ne somble pas fonctionner pour le recodage des variables\n",
    "    if mod in [\"Solar photovoltaic\",\"Solar photovoltaic\",\"Solar Heating / Cooling\"]:\n",
    "        return \"Solar ernergy\"\n",
    "    return mod"
   ]
  },
  {
   "cell_type": "markdown",
   "metadata": {},
   "source": [
    "Ici il faudrai penser a trouver une meilleur facon de recoder la variable pck la le code est trop \n",
    "compliquer a relire et il y a surement une meilleur facon de le faaire. L'idéal serai de pouvoir appliquer \n",
    "différente fonction sur la variable pour bien faire la différence entre les différent groupe que \n",
    "l'on veut crée."
   ]
  },
  {
   "cell_type": "markdown",
   "metadata": {},
   "source": [
    "# Recodage de la variable Technologie"
   ]
  },
  {
   "cell_type": "code",
   "execution_count": 17,
   "metadata": {},
   "outputs": [
    {
     "ename": "AttributeError",
     "evalue": "'Expr' object has no attribute 'map_dict'",
     "output_type": "error",
     "traceback": [
      "\u001b[1;31m---------------------------------------------------------------------------\u001b[0m",
      "\u001b[1;31mAttributeError\u001b[0m                            Traceback (most recent call last)",
      "Cell \u001b[1;32mIn [17], line 1\u001b[0m\n\u001b[1;32m----> 1\u001b[0m data\u001b[38;5;241m.\u001b[39mwith_columns(\u001b[43mpl\u001b[49m\u001b[38;5;241;43m.\u001b[39;49m\u001b[43mcol\u001b[49m\u001b[43m(\u001b[49m\u001b[38;5;124;43m\"\u001b[39;49m\u001b[38;5;124;43mTechnology\u001b[39;49m\u001b[38;5;124;43m\"\u001b[39;49m\u001b[43m)\u001b[49m\u001b[38;5;241;43m.\u001b[39;49m\u001b[43mmap_dict\u001b[49m(technology_mapping, default\u001b[38;5;241m=\u001b[39m\u001b[38;5;124m\"\u001b[39m\u001b[38;5;124mOther\u001b[39m\u001b[38;5;124m\"\u001b[39m)\u001b[38;5;241m.\u001b[39malias(\u001b[38;5;124m\"\u001b[39m\u001b[38;5;124mGrouped_Technology\u001b[39m\u001b[38;5;124m\"\u001b[39m))\n",
      "\u001b[1;31mAttributeError\u001b[0m: 'Expr' object has no attribute 'map_dict'"
     ]
    }
   ],
   "source": [
    "data.with_columns(pl.col(\"Technology\").map_dict(technology_mapping, default=\"Other\").alias(\"Grouped_Technology\"))"
   ]
  },
  {
   "cell_type": "code",
   "execution_count": 18,
   "metadata": {},
   "outputs": [
    {
     "ename": "AttributeError",
     "evalue": "'DataFrame' object has no attribute 'with_column'",
     "output_type": "error",
     "traceback": [
      "\u001b[1;31m---------------------------------------------------------------------------\u001b[0m",
      "\u001b[1;31mAttributeError\u001b[0m                            Traceback (most recent call last)",
      "Cell \u001b[1;32mIn [18], line 14\u001b[0m\n\u001b[0;32m      1\u001b[0m technology_mapping \u001b[38;5;241m=\u001b[39m {\n\u001b[0;32m      2\u001b[0m     \u001b[38;5;124m\"\u001b[39m\u001b[38;5;124mSolar photovoltaic\u001b[39m\u001b[38;5;124m\"\u001b[39m: \u001b[38;5;124m\"\u001b[39m\u001b[38;5;124mSolar energy\u001b[39m\u001b[38;5;124m\"\u001b[39m,\n\u001b[0;32m      3\u001b[0m     \u001b[38;5;124m\"\u001b[39m\u001b[38;5;124mSolar Heating / Cooling\u001b[39m\u001b[38;5;124m\"\u001b[39m: \u001b[38;5;124m\"\u001b[39m\u001b[38;5;124mSolar energy\u001b[39m\u001b[38;5;124m\"\u001b[39m,\n\u001b[1;32m   (...)\u001b[0m\n\u001b[0;32m     12\u001b[0m     \u001b[38;5;124m\"\u001b[39m\u001b[38;5;124mGeothermal Energy\u001b[39m\u001b[38;5;124m\"\u001b[39m: \u001b[38;5;124m\"\u001b[39m\u001b[38;5;124mGeothermal energy\u001b[39m\u001b[38;5;124m\"\u001b[39m\n\u001b[0;32m     13\u001b[0m }\n\u001b[1;32m---> 14\u001b[0m df_transformed \u001b[38;5;241m=\u001b[39m \u001b[43mdata\u001b[49m\u001b[38;5;241;43m.\u001b[39;49m\u001b[43mwith_column\u001b[49m(\n\u001b[0;32m     15\u001b[0m     pl\u001b[38;5;241m.\u001b[39mcol(\u001b[38;5;124m\"\u001b[39m\u001b[38;5;124mTechnology\u001b[39m\u001b[38;5;124m\"\u001b[39m)\u001b[38;5;241m.\u001b[39mmap_dict(technology_mapping, default\u001b[38;5;241m=\u001b[39m\u001b[38;5;124m\"\u001b[39m\u001b[38;5;124mOther\u001b[39m\u001b[38;5;124m\"\u001b[39m)\u001b[38;5;241m.\u001b[39malias(\u001b[38;5;124m\"\u001b[39m\u001b[38;5;124mGrouped_Technology\u001b[39m\u001b[38;5;124m\"\u001b[39m)\n\u001b[0;32m     16\u001b[0m )\n",
      "\u001b[1;31mAttributeError\u001b[0m: 'DataFrame' object has no attribute 'with_column'"
     ]
    }
   ],
   "source": [
    "technology_mapping = {\n",
    "    \"Solar photovoltaic\": \"Solar energy\",\n",
    "    \"Solar Heating / Cooling\": \"Solar energy\",\n",
    "    \"Solar Photovoltaic\": \"Solar energy\",\n",
    "    \"CSP\": \"Solar energy\",\n",
    "    \"Tide, Wave and Ocean Energy\": \"Marine energy\",\n",
    "    \"Liquid biofuels\": \"Bioenergy\",\n",
    "    \"Biogas\": \"Bioenergy\",\n",
    "    \"Municipal and industrial waste\": \"Bioenergy\",\n",
    "    \"Solid Biomass\": \"Bioenergy\",\n",
    "    \"Wind Energy\": \"Wind energy\",\n",
    "    \"Geothermal Energy\": \"Geothermal energy\"\n",
    "}\n",
    "df_transformed = data.with_column(\n",
    "    pl.col(\"Technology\").map_dict(technology_mapping, default=\"Other\").alias(\"Grouped_Technology\")\n",
    ")"
   ]
  },
  {
   "cell_type": "code",
   "execution_count": 125,
   "metadata": {},
   "outputs": [
    {
     "name": "stdout",
     "output_type": "stream",
     "text": [
      "shape: (14, 4)\n",
      "┌──────────────┬─────────────────────────────┬─────────────────┬────────────────────┐\n",
      "│ Country/area ┆ Technology                  ┆ Jobs (thousand) ┆ Grouped_Technology │\n",
      "│ ---          ┆ ---                         ┆ ---             ┆ ---                │\n",
      "│ str          ┆ str                         ┆ f64             ┆ str                │\n",
      "╞══════════════╪═════════════════════════════╪═════════════════╪════════════════════╡\n",
      "│ All World    ┆ All technologies            ┆ 13726.74294     ┆ All technologies   │\n",
      "│ All World    ┆ Geothermal energy           ┆ 151.933         ┆ Geothermal energy  │\n",
      "│ All World    ┆ CSP                         ┆ 79.675          ┆ Solar energy       │\n",
      "│ All World    ┆ Heat Pumps                  ┆ 241.0           ┆ Heat Pumps         │\n",
      "│ All World    ┆ Hydropower                  ┆ 2485.15         ┆ Hydropower         │\n",
      "│ …            ┆ …                           ┆ …               ┆ …                  │\n",
      "│ All World    ┆ Solid Biomass               ┆ 779.256         ┆ Bioenergy          │\n",
      "│ All World    ┆ Tide, Wave and Ocean Energy ┆ 1.288           ┆ Marine ernergy     │\n",
      "│ All World    ┆ Wind Energy                 ┆ 1400.346        ┆ Wind energy        │\n",
      "│ All World    ┆ Liquid Biofuels             ┆ 2490.279        ┆ Bioenergy          │\n",
      "│ All World    ┆ Solar Photovoltaic          ┆ 4902.346        ┆ Solar energy       │\n",
      "└──────────────┴─────────────────────────────┴─────────────────┴────────────────────┘\n"
     ]
    }
   ],
   "source": [
    "df_transformed = data.with_columns(\n",
    "    pl.when(pl.col(\"Technology\").is_in([\"Solar photovoltaic\", \"Solar Heating / Cooling\",\"Solar Photovoltaic\",\"CSP\"]))\n",
    "    .then(pl.lit(\"Solar energy\"))\n",
    "    .otherwise( pl.when(pl.col(\"Technology\").is_in([\"Tide, Wave and Ocean Energy\"]))\n",
    "                .then(pl.lit(\"Marine ernergy\"))\n",
    "                .otherwise(pl.when(pl.col(\"Technology\").is_in([\"Liquid biofuels\",\"Biogas\",\"Municipal and industrial waste\",\"Solid Biomass\",\"Liquid Biofuels\"]))\n",
    "                            .then(pl.lit(\"Bioenergy\"))\n",
    "                            .otherwise(pl.when(pl.col(\"Technology\").is_in([\"Wind Energy\"]))\n",
    "                                        .then(pl.lit(\"Wind energy\"))\n",
    "                                        .otherwise(pl.when(pl.col(\"Technology\").is_in([\"Geothermal Energy\"]))\n",
    "                                                    .then(pl.lit(\"Geotherma energy\"))\n",
    "                                                    .otherwise(pl.col(\"Technology\")) \n",
    "                                                        )\n",
    "                                                    )\n",
    "                                                )\n",
    "                                        ).alias(\"Grouped_Technology\")\n",
    "                            )\n",
    "print(df_transformed)"
   ]
  },
  {
   "cell_type": "markdown",
   "metadata": {},
   "source": [
    "df_transformed on réunie les technologies qui sont un peut trop précise sous une catégorie un peu plus général"
   ]
  },
  {
   "cell_type": "code",
   "execution_count": 143,
   "metadata": {},
   "outputs": [],
   "source": [
    "df_grouped = df_transformed.group_by(\"Grouped_Technology\").agg(\n",
    "    pl.sum(\"Jobs (thousand)\").alias(\"Total_Jobs_thousand\")\n",
    ")"
   ]
  },
  {
   "cell_type": "markdown",
   "metadata": {},
   "source": [
    "df_grouped pour agrégée les données (plusieurs données peuvent prendre la même modalité)"
   ]
  },
  {
   "cell_type": "markdown",
   "metadata": {},
   "source": [
    "Création d'un indicateur qui contiens un pourcentage de travailleur dans une technologie renouvlable parmis tous les travailleur spécifique dans une énergies renouvlable."
   ]
  },
  {
   "cell_type": "code",
   "execution_count": 145,
   "metadata": {},
   "outputs": [],
   "source": [
    "sum_other_modalities = df_grouped.filter(pl.col(\"Grouped_Technology\") != \"All technologies\").select(pl.sum(\"Total_Jobs_thousand\")).to_numpy()[0]"
   ]
  },
  {
   "cell_type": "code",
   "execution_count": 155,
   "metadata": {},
   "outputs": [
    {
     "data": {
      "text/plain": [
       "array([13727.6441328])"
      ]
     },
     "execution_count": 155,
     "metadata": {},
     "output_type": "execute_result"
    }
   ],
   "source": [
    "sum_other_modalities"
   ]
  },
  {
   "cell_type": "code",
   "execution_count": 153,
   "metadata": {},
   "outputs": [],
   "source": [
    "\n",
    "all_technology_value = df_grouped.filter(pl.col(\"Grouped_Technology\") == \"All technologies\").select(\"Total_Jobs_thousand\").to_numpy()[0][0]"
   ]
  },
  {
   "cell_type": "code",
   "execution_count": 154,
   "metadata": {},
   "outputs": [
    {
     "data": {
      "text/plain": [
       "13726.74294"
      ]
     },
     "execution_count": 154,
     "metadata": {},
     "output_type": "execute_result"
    }
   ],
   "source": [
    "all_technology_value"
   ]
  },
  {
   "cell_type": "markdown",
   "metadata": {},
   "source": [
    "Certaine catégorie ici ne sont pas pris en compte"
   ]
  },
  {
   "cell_type": "code",
   "execution_count": 156,
   "metadata": {},
   "outputs": [],
   "source": [
    "mod_sup=['Others','All technologies','Heat Pumps']"
   ]
  },
  {
   "cell_type": "code",
   "execution_count": 158,
   "metadata": {},
   "outputs": [],
   "source": [
    "df_filtered = df_grouped.filter(~pl.col('Grouped_Technology').is_in(mod_sup))"
   ]
  },
  {
   "cell_type": "code",
   "execution_count": 159,
   "metadata": {},
   "outputs": [],
   "source": [
    "total_traveilleur=df_filtered['Total_Jobs_thousand'].sum()"
   ]
  },
  {
   "cell_type": "code",
   "execution_count": 160,
   "metadata": {},
   "outputs": [
    {
     "data": {
      "text/plain": [
       "13337.8951328"
      ]
     },
     "execution_count": 160,
     "metadata": {},
     "output_type": "execute_result"
    }
   ],
   "source": [
    "total_traveilleur"
   ]
  },
  {
   "cell_type": "code",
   "execution_count": 162,
   "metadata": {},
   "outputs": [],
   "source": [
    "data_f = df_filtered.with_columns(\n",
    "    (pl.col('Total_Jobs_thousand') / total_traveilleur * 100).round(3).alias('Total_Jobs_thousand_perct')\n",
    ")\n"
   ]
  },
  {
   "cell_type": "markdown",
   "metadata": {},
   "source": [
    "data_f est la base de données final qui contiens les indicateur sur le travail dans les énergies renouvlables"
   ]
  }
 ],
 "metadata": {
  "kernelspec": {
   "display_name": "Python 3",
   "language": "python",
   "name": "python3"
  },
  "language_info": {
   "codemirror_mode": {
    "name": "ipython",
    "version": 3
   },
   "file_extension": ".py",
   "mimetype": "text/x-python",
   "name": "python",
   "nbconvert_exporter": "python",
   "pygments_lexer": "ipython3",
   "version": "3.10.2"
  }
 },
 "nbformat": 4,
 "nbformat_minor": 2
}
